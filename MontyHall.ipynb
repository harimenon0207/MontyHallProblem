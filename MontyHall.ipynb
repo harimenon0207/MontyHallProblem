{
  "nbformat": 4,
  "nbformat_minor": 0,
  "metadata": {
    "colab": {
      "provenance": []
    },
    "kernelspec": {
      "name": "python3",
      "display_name": "Python 3"
    },
    "language_info": {
      "name": "python"
    }
  },
  "cells": [
    {
      "cell_type": "code",
      "execution_count": null,
      "metadata": {
        "id": "Pa-iEvodyV1_"
      },
      "outputs": [],
      "source": [
        "# Building a simulaiton of the Monty hall problem where in a game show there are 'N' doors available for the contestant to open. There is a prize behind one of the N doors. Initiatlly the contestant picks one of the doors. Thereafter the host opens one of the doors not picked by the contestant without the prize and asks the contestant if they would want to change their choice."
      ]
    },
    {
      "cell_type": "code",
      "source": [
        "import pandas as pd\n",
        "import numpy as np\n",
        "from matplotlib import pyplot as plt\n",
        "import seaborn as sns\n",
        "import random\n",
        "random.seed(10)"
      ],
      "metadata": {
        "id": "vXhuaRRu6EGf"
      },
      "execution_count": 1,
      "outputs": []
    },
    {
      "cell_type": "markdown",
      "source": [],
      "metadata": {
        "id": "eK8ZZHkNowjl"
      }
    },
    {
      "cell_type": "code",
      "source": [
        "class MontyHall:\n",
        "  def __init__(self,num_doors=3):\n",
        "    self.num_doors = num_doors\n",
        "    self.prize_door = np.random.randint(1,num_doors+1)\n",
        "    self.contestant_choice = None\n",
        "    self.host_choice = None\n",
        "\n",
        "  def contestant_choose_door(self):\n",
        "    self.contestant_choice = np.random.randint(1,self.num_doors+1)\n",
        "    #print(\"Original Contestant door: \",self.contestant_choice)\n",
        "    #print(\"Prize door: \",self.prize_door)\n",
        "\n",
        "  def host_choose_door(self):\n",
        "    remaining_doors = [door for door in range(1,self.num_doors +1) if door != self.contestant_choice and door != self.prize_door]\n",
        "    self.host_choice = np.random.choice(remaining_doors)\n",
        "    #print(\"Host choice door: \",self.host_choice)\n",
        "\n",
        "  def door_switch(self):\n",
        "    s_remaining_doors = [door for door in range(1,self.num_doors +1) if door != self.contestant_choice and door != self.host_choice]\n",
        "    self.contestant_choice = np.random.choice(s_remaining_doors)\n",
        "    #print(\"Switched Contestant door: \",self.contestant_choice)\n",
        "\n",
        "  def check_win(self):\n",
        "    return self.contestant_choice == self.prize_door\n",
        "\n",
        "\n",
        "# Simulation with the switching strategy\n",
        "\n",
        "def sim_monty_hall(num_sims, switch=True):\n",
        "  wins = 0\n",
        "  for _ in range(num_sims):\n",
        "    game = MontyHall()\n",
        "    game.contestant_choose_door()\n",
        "    game.host_choose_door()\n",
        "    if switch == True:\n",
        "      game.door_switch()\n",
        "    if game.check_win():\n",
        "      wins += 1\n",
        "  return wins / num_sims\n",
        "\n",
        "num_sims = 10000\n",
        "win_percentage_switch = sim_monty_hall(num_sims)\n",
        "win_percentage_no_switch = sim_monty_hall(num_sims,switch=False)\n",
        "print(f\"The Probability of winning with switching: {win_percentage_switch: .2%}\")\n",
        "print(f\"The Probability of winning without switching: {win_percentage_no_switch: .2%}\")\n",
        "\n"
      ],
      "metadata": {
        "colab": {
          "base_uri": "https://localhost:8080/"
        },
        "id": "a5pB9EpazDuo",
        "outputId": "e3041067-9a90-44f5-8f6f-9165529e2fc6"
      },
      "execution_count": 3,
      "outputs": [
        {
          "output_type": "stream",
          "name": "stdout",
          "text": [
            "The Probability of winning with switching:  66.79%\n",
            "The Probability of winning without switching:  33.48%\n"
          ]
        }
      ]
    },
    {
      "cell_type": "code",
      "source": [],
      "metadata": {
        "id": "6_V8PrFcr6dV"
      },
      "execution_count": null,
      "outputs": []
    }
  ]
}